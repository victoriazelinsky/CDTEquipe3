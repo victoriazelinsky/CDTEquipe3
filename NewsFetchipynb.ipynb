{
 "cells": [
  {
   "cell_type": "code",
   "execution_count": 12,
   "id": "f51e5570",
   "metadata": {},
   "outputs": [
    {
     "name": "stdout",
     "output_type": "stream",
     "text": [
      "Requirement already satisfied: requests in c:\\users\\charl\\appdata\\local\\programs\\python\\python312\\lib\\site-packages (2.32.3)\n",
      "Requirement already satisfied: pandas in c:\\users\\charl\\appdata\\local\\programs\\python\\python312\\lib\\site-packages (2.3.3)\n",
      "Requirement already satisfied: python-dotenv in c:\\users\\charl\\appdata\\local\\programs\\python\\python312\\lib\\site-packages (1.1.1)\n",
      "Requirement already satisfied: wordcloud in c:\\users\\charl\\appdata\\local\\programs\\python\\python312\\lib\\site-packages (1.9.4)\n",
      "Requirement already satisfied: matplotlib in c:\\users\\charl\\appdata\\local\\programs\\python\\python312\\lib\\site-packages (3.10.6)\n",
      "Requirement already satisfied: charset-normalizer<4,>=2 in c:\\users\\charl\\appdata\\local\\programs\\python\\python312\\lib\\site-packages (from requests) (3.3.2)\n",
      "Requirement already satisfied: idna<4,>=2.5 in c:\\users\\charl\\appdata\\local\\programs\\python\\python312\\lib\\site-packages (from requests) (3.7)\n",
      "Requirement already satisfied: urllib3<3,>=1.21.1 in c:\\users\\charl\\appdata\\local\\programs\\python\\python312\\lib\\site-packages (from requests) (2.2.2)\n",
      "Requirement already satisfied: certifi>=2017.4.17 in c:\\users\\charl\\appdata\\local\\programs\\python\\python312\\lib\\site-packages (from requests) (2024.7.4)\n",
      "Requirement already satisfied: numpy>=1.26.0 in c:\\users\\charl\\appdata\\local\\programs\\python\\python312\\lib\\site-packages (from pandas) (2.0.1)\n",
      "Requirement already satisfied: python-dateutil>=2.8.2 in c:\\users\\charl\\appdata\\roaming\\python\\python312\\site-packages (from pandas) (2.9.0.post0)\n",
      "Requirement already satisfied: pytz>=2020.1 in c:\\users\\charl\\appdata\\local\\programs\\python\\python312\\lib\\site-packages (from pandas) (2025.2)\n",
      "Requirement already satisfied: tzdata>=2022.7 in c:\\users\\charl\\appdata\\local\\programs\\python\\python312\\lib\\site-packages (from pandas) (2025.2)\n",
      "Requirement already satisfied: pillow in c:\\users\\charl\\appdata\\local\\programs\\python\\python312\\lib\\site-packages (from wordcloud) (10.3.0)\n",
      "Requirement already satisfied: contourpy>=1.0.1 in c:\\users\\charl\\appdata\\local\\programs\\python\\python312\\lib\\site-packages (from matplotlib) (1.3.3)\n",
      "Requirement already satisfied: cycler>=0.10 in c:\\users\\charl\\appdata\\local\\programs\\python\\python312\\lib\\site-packages (from matplotlib) (0.12.1)\n",
      "Requirement already satisfied: fonttools>=4.22.0 in c:\\users\\charl\\appdata\\local\\programs\\python\\python312\\lib\\site-packages (from matplotlib) (4.60.1)\n",
      "Requirement already satisfied: kiwisolver>=1.3.1 in c:\\users\\charl\\appdata\\local\\programs\\python\\python312\\lib\\site-packages (from matplotlib) (1.4.9)\n",
      "Requirement already satisfied: packaging>=20.0 in c:\\users\\charl\\appdata\\roaming\\python\\python312\\site-packages (from matplotlib) (24.0)\n",
      "Requirement already satisfied: pyparsing>=2.3.1 in c:\\users\\charl\\appdata\\local\\programs\\python\\python312\\lib\\site-packages (from matplotlib) (3.2.5)\n",
      "Requirement already satisfied: six>=1.5 in c:\\users\\charl\\appdata\\roaming\\python\\python312\\site-packages (from python-dateutil>=2.8.2->pandas) (1.16.0)\n",
      "Note: you may need to restart the kernel to use updated packages.\n"
     ]
    },
    {
     "name": "stderr",
     "output_type": "stream",
     "text": [
      "\n",
      "[notice] A new release of pip is available: 24.0 -> 25.2\n",
      "[notice] To update, run: python.exe -m pip install --upgrade pip\n"
     ]
    }
   ],
   "source": [
    "pip install requests pandas python-dotenv wordcloud matplotlib\n"
   ]
  },
  {
   "cell_type": "code",
   "execution_count": 13,
   "id": "7f8bdb19",
   "metadata": {},
   "outputs": [],
   "source": [
    "import requests\n",
    "import pandas as pd\n",
    "from datetime import datetime, timedelta\n",
    "from dotenv import load_dotenv\n",
    "import os"
   ]
  },
  {
   "cell_type": "code",
   "execution_count": 14,
   "id": "932da478",
   "metadata": {},
   "outputs": [],
   "source": [
    "# load API key \n",
    "API_KEY = \"c97bc348b78840749d2c45aae7cc5290\""
   ]
  },
  {
   "cell_type": "code",
   "execution_count": 15,
   "id": "ea4d1248",
   "metadata": {},
   "outputs": [
    {
     "name": "stderr",
     "output_type": "stream",
     "text": [
      "C:\\Users\\charl\\AppData\\Local\\Temp\\ipykernel_10988\\1919314411.py:2: DeprecationWarning: datetime.datetime.utcnow() is deprecated and scheduled for removal in a future version. Use timezone-aware objects to represent datetimes in UTC: datetime.datetime.now(datetime.UTC).\n",
      "  to_date = datetime.utcnow().date()\n"
     ]
    }
   ],
   "source": [
    "# dates for the last X days\n",
    "to_date = datetime.utcnow().date()\n",
    "from_date = to_date - timedelta(days=7)"
   ]
  },
  {
   "cell_type": "code",
   "execution_count": 16,
   "id": "68515250",
   "metadata": {},
   "outputs": [],
   "source": [
    "QUERY = 'India Pakistan war OR conflict OR border OR attack OR tension'\n",
    "LANG = 'en'\n",
    "PAGE_SIZE = 5  # max per page"
   ]
  },
  {
   "cell_type": "code",
   "execution_count": 17,
   "id": "054b444a",
   "metadata": {},
   "outputs": [],
   "source": [
    "def fetch_news(query, from_date, to_date, api_key, page_size=100):\n",
    "    url = 'https://newsapi.org/v2/everything'\n",
    "    all_articles = []\n",
    "    for page in range(1, 3):  # try up to 5 pages\n",
    "        params = {\n",
    "            'q': query,\n",
    "            'from': from_date,\n",
    "            'to': to_date,\n",
    "            'language': LANG,\n",
    "            'pageSize': page_size,\n",
    "            'page': page,\n",
    "            'sortBy': 'publishedAt',\n",
    "            'apiKey': api_key\n",
    "        }\n",
    "        response = requests.get(url, params=params)\n",
    "        data = response.json()\n",
    "\n",
    "        if data.get(\"status\") != \"ok\":\n",
    "            print(\"Error:\", data.get(\"message\"))\n",
    "            break\n",
    "\n",
    "        articles = data.get(\"articles\", [])\n",
    "        if not articles:\n",
    "            break\n",
    "        all_articles.extend(articles)\n",
    "    return all_articles"
   ]
  },
  {
   "cell_type": "code",
   "execution_count": 18,
   "id": "1a1ccbdd",
   "metadata": {},
   "outputs": [
    {
     "name": "stdout",
     "output_type": "stream",
     "text": [
      "Error: You have requested too many results. Developer accounts are limited to a max of 100 results. You are trying to request results 100 to 200. Please upgrade to a paid plan if you need more results.\n",
      "98 articles saved to 'india_pakistan_conflict_news.csv'\n"
     ]
    }
   ],
   "source": [
    "# fetch articles\n",
    "articles = fetch_news(QUERY, from_date.isoformat(), to_date.isoformat(), API_KEY)\n",
    "\n",
    "# convert to dataframe\n",
    "df = pd.DataFrame([{\n",
    "    'title': article['title'],\n",
    "    'description': article['description'],\n",
    "    'source': article['source']['name'],\n",
    "    'published_at': article['publishedAt'],\n",
    "    'url': article['url'],\n",
    "    'content': article['content']\n",
    "} for article in articles])\n",
    "\n",
    "# save to CSV\n",
    "df.to_csv(\"india_pakistan_conflict_news.csv\", index=False)\n",
    "print(f\"{len(df)} articles saved to 'india_pakistan_conflict_news.csv'\")"
   ]
  }
 ],
 "metadata": {
  "kernelspec": {
   "display_name": "Python 3",
   "language": "python",
   "name": "python3"
  },
  "language_info": {
   "codemirror_mode": {
    "name": "ipython",
    "version": 3
   },
   "file_extension": ".py",
   "mimetype": "text/x-python",
   "name": "python",
   "nbconvert_exporter": "python",
   "pygments_lexer": "ipython3",
   "version": "3.12.3"
  }
 },
 "nbformat": 4,
 "nbformat_minor": 5
}
