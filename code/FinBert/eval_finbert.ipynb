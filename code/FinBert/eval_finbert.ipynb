{
 "cells": [
  {
   "cell_type": "code",
   "execution_count": 1,
   "id": "343b72f3",
   "metadata": {},
   "outputs": [
    {
     "name": "stdout",
     "output_type": "stream",
     "text": [
      "Label map : {'0': 'Negative', '1': 'Neutral', '2': 'Positive'}\n"
     ]
    }
   ],
   "source": [
    "from transformers import AutoTokenizer, AutoModelForSequenceClassification, pipeline\n",
    "import json\n",
    "import torch\n",
    "import pandas as pd\n",
    "from tqdm import tqdm\n",
    "tqdm.pandas()\n",
    "\n",
    "# chemin vers ton modèle sauvegardé\n",
    "MODEL_PATH = \"./finbert_forex_finetuned\"\n",
    "\n",
    "# 1. Charger le tokenizer et le modèle\n",
    "tokenizer = AutoTokenizer.from_pretrained(MODEL_PATH)\n",
    "model = AutoModelForSequenceClassification.from_pretrained(MODEL_PATH).to('cuda')\n",
    "\n",
    "# 2. Charger éventuellement le mapping label (index->texte)\n",
    "with open(f\"{MODEL_PATH}/label_map.json\", \"r\", encoding=\"utf-8\") as f:\n",
    "    label_map = json.load(f)\n",
    "\n",
    "print(\"Label map :\", label_map)\n"
   ]
  },
  {
   "cell_type": "code",
   "execution_count": 2,
   "id": "5b1d0f99",
   "metadata": {},
   "outputs": [
    {
     "data": {
      "text/html": [
       "<div>\n",
       "<style scoped>\n",
       "    .dataframe tbody tr th:only-of-type {\n",
       "        vertical-align: middle;\n",
       "    }\n",
       "\n",
       "    .dataframe tbody tr th {\n",
       "        vertical-align: top;\n",
       "    }\n",
       "\n",
       "    .dataframe thead th {\n",
       "        text-align: right;\n",
       "    }\n",
       "</style>\n",
       "<table border=\"1\" class=\"dataframe\">\n",
       "  <thead>\n",
       "    <tr style=\"text-align: right;\">\n",
       "      <th></th>\n",
       "      <th>true_sentiment</th>\n",
       "      <th>paraphrased_title</th>\n",
       "    </tr>\n",
       "  </thead>\n",
       "  <tbody>\n",
       "    <tr>\n",
       "      <th>0</th>\n",
       "      <td>positive</td>\n",
       "      <td>Euro set to gain from the ECB's strong determi...</td>\n",
       "    </tr>\n",
       "    <tr>\n",
       "      <th>1</th>\n",
       "      <td>positive</td>\n",
       "      <td>EURCHF's upward trend likely to persist - ING</td>\n",
       "    </tr>\n",
       "    <tr>\n",
       "      <th>2</th>\n",
       "      <td>neutral</td>\n",
       "      <td>Is a surge in EURCHF indicating a break above ...</td>\n",
       "    </tr>\n",
       "    <tr>\n",
       "      <th>3</th>\n",
       "      <td>positive</td>\n",
       "      <td>EURCHF may prolong its advance towards levels ...</td>\n",
       "    </tr>\n",
       "    <tr>\n",
       "      <th>4</th>\n",
       "      <td>positive</td>\n",
       "      <td>EURCHF expected to rise towards 10130 and proj...</td>\n",
       "    </tr>\n",
       "  </tbody>\n",
       "</table>\n",
       "</div>"
      ],
      "text/plain": [
       "  true_sentiment                                  paraphrased_title\n",
       "0       positive  Euro set to gain from the ECB's strong determi...\n",
       "1       positive      EURCHF's upward trend likely to persist - ING\n",
       "2        neutral  Is a surge in EURCHF indicating a break above ...\n",
       "3       positive  EURCHF may prolong its advance towards levels ...\n",
       "4       positive  EURCHF expected to rise towards 10130 and proj..."
      ]
     },
     "execution_count": 2,
     "metadata": {},
     "output_type": "execute_result"
    }
   ],
   "source": [
    "df = pd.read_csv('./Data/Chatgpt.csv')\n",
    "df['true_sentiment'] = df['true_sentiment'].apply(lambda x : x.lower())\n",
    "df.head()"
   ]
  },
  {
   "cell_type": "code",
   "execution_count": 3,
   "id": "e130da84",
   "metadata": {},
   "outputs": [
    {
     "name": "stderr",
     "output_type": "stream",
     "text": [
      "100%|██████████| 2264/2264 [00:13<00:00, 164.65it/s]\n"
     ]
    },
    {
     "data": {
      "text/html": [
       "<div>\n",
       "<style scoped>\n",
       "    .dataframe tbody tr th:only-of-type {\n",
       "        vertical-align: middle;\n",
       "    }\n",
       "\n",
       "    .dataframe tbody tr th {\n",
       "        vertical-align: top;\n",
       "    }\n",
       "\n",
       "    .dataframe thead th {\n",
       "        text-align: right;\n",
       "    }\n",
       "</style>\n",
       "<table border=\"1\" class=\"dataframe\">\n",
       "  <thead>\n",
       "    <tr style=\"text-align: right;\">\n",
       "      <th></th>\n",
       "      <th>true_sentiment</th>\n",
       "      <th>paraphrased_title</th>\n",
       "      <th>predicted_sentiment</th>\n",
       "    </tr>\n",
       "  </thead>\n",
       "  <tbody>\n",
       "    <tr>\n",
       "      <th>0</th>\n",
       "      <td>positive</td>\n",
       "      <td>Euro set to gain from the ECB's strong determi...</td>\n",
       "      <td>positive</td>\n",
       "    </tr>\n",
       "    <tr>\n",
       "      <th>1</th>\n",
       "      <td>positive</td>\n",
       "      <td>EURCHF's upward trend likely to persist - ING</td>\n",
       "      <td>positive</td>\n",
       "    </tr>\n",
       "    <tr>\n",
       "      <th>2</th>\n",
       "      <td>neutral</td>\n",
       "      <td>Is a surge in EURCHF indicating a break above ...</td>\n",
       "      <td>negative</td>\n",
       "    </tr>\n",
       "    <tr>\n",
       "      <th>3</th>\n",
       "      <td>positive</td>\n",
       "      <td>EURCHF may prolong its advance towards levels ...</td>\n",
       "      <td>positive</td>\n",
       "    </tr>\n",
       "    <tr>\n",
       "      <th>4</th>\n",
       "      <td>positive</td>\n",
       "      <td>EURCHF expected to rise towards 10130 and proj...</td>\n",
       "      <td>positive</td>\n",
       "    </tr>\n",
       "  </tbody>\n",
       "</table>\n",
       "</div>"
      ],
      "text/plain": [
       "  true_sentiment                                  paraphrased_title  \\\n",
       "0       positive  Euro set to gain from the ECB's strong determi...   \n",
       "1       positive      EURCHF's upward trend likely to persist - ING   \n",
       "2        neutral  Is a surge in EURCHF indicating a break above ...   \n",
       "3       positive  EURCHF may prolong its advance towards levels ...   \n",
       "4       positive  EURCHF expected to rise towards 10130 and proj...   \n",
       "\n",
       "  predicted_sentiment  \n",
       "0            positive  \n",
       "1            positive  \n",
       "2            negative  \n",
       "3            positive  \n",
       "4            positive  "
      ]
     },
     "execution_count": 3,
     "metadata": {},
     "output_type": "execute_result"
    }
   ],
   "source": [
    "def predict(text) : \n",
    "    with torch.no_grad() :\n",
    "        prob = torch.softmax(model(**tokenizer(text, return_tensors=\"pt\").to('cuda')).logits, dim=1).to('cpu')\n",
    "    sentiment_labels = ['negative', 'neutral', 'positive']\n",
    "    predicted_sentiment_index = torch.argmax(prob, dim=1).item()\n",
    "    predicted_sentiment = sentiment_labels[predicted_sentiment_index]\n",
    "    return prob, predicted_sentiment\n",
    "\n",
    "def ft_eval(row) :\n",
    "    text = row['paraphrased_title']\n",
    "    prob, predicted_sentiment = predict(text)\n",
    "    return predicted_sentiment\n",
    "\n",
    "df['predicted_sentiment'] = df.progress_apply(ft_eval, axis=1)\n",
    "df.head()\n"
   ]
  },
  {
   "cell_type": "code",
   "execution_count": 4,
   "id": "fa10c155",
   "metadata": {},
   "outputs": [
    {
     "data": {
      "text/plain": [
       "np.float64(0.7407243816254417)"
      ]
     },
     "execution_count": 4,
     "metadata": {},
     "output_type": "execute_result"
    }
   ],
   "source": [
    "(df['predicted_sentiment'] == df['true_sentiment']).mean()"
   ]
  },
  {
   "cell_type": "code",
   "execution_count": null,
   "id": "b7ec5b28",
   "metadata": {},
   "outputs": [
    {
     "data": {
      "text/plain": [
       "(tensor([0.3989, 0.0588, 0.5423]), 'positive')"
      ]
     },
     "execution_count": 5,
     "metadata": {},
     "output_type": "execute_result"
    }
   ],
   "source": [
    "def compute_daily_score(list_news) : \n",
    "    mean_prob = torch.zeros(3)\n",
    "    for text in list_news :\n",
    "        prob, _ = predict(text)\n",
    "        mean_prob += prob.flatten() / 5\n",
    "    sentiment_labels = ['negative', 'neutral', 'positive']\n",
    "    predicted_sentiment_index = torch.argmax(mean_prob).item()\n",
    "    predicted_sentiment = sentiment_labels[predicted_sentiment_index]\n",
    "    return mean_prob, predicted_sentiment\n",
    "\n",
    "list_news = [\"GBP/USD rises as US shutdown prolongs, Fed data gap grows\",\n",
    "            \"Pound Sterling flattens against US Dollar on absence of US key economic data releases\",\n",
    "            \"GBP up marginally and soft – Scotiabank\", \n",
    "            \"GBP/USD may retest the 1.3400 level – UOB Group\",\n",
    "            \"GBP/USD strengthens above 1.3430 as traders weigh impact of US government shutdown\"]\n",
    "\n",
    "compute_daily_score(list_news)"
   ]
  }
 ],
 "metadata": {
  "kernelspec": {
   "display_name": "venv",
   "language": "python",
   "name": "python3"
  },
  "language_info": {
   "codemirror_mode": {
    "name": "ipython",
    "version": 3
   },
   "file_extension": ".py",
   "mimetype": "text/x-python",
   "name": "python",
   "nbconvert_exporter": "python",
   "pygments_lexer": "ipython3",
   "version": "3.13.7"
  }
 },
 "nbformat": 4,
 "nbformat_minor": 5
}
